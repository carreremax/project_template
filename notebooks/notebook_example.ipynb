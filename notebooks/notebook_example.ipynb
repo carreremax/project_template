{
 "cells": [
  {
   "cell_type": "code",
   "execution_count": 7,
   "id": "30e1619a",
   "metadata": {},
   "outputs": [
    {
     "ename": "ModuleNotFoundError",
     "evalue": "No module named 'conf.experiment_conf'",
     "output_type": "error",
     "traceback": [
      "\u001b[1;31m---------------------------------------------------------------------------\u001b[0m",
      "\u001b[1;31mModuleNotFoundError\u001b[0m                       Traceback (most recent call last)",
      "Cell \u001b[1;32mIn[7], line 5\u001b[0m\n\u001b[0;32m      3\u001b[0m os\u001b[38;5;241m.\u001b[39mchdir(\u001b[38;5;124m\"\u001b[39m\u001b[38;5;124m..\u001b[39m\u001b[38;5;124m\"\u001b[39m)\n\u001b[0;32m      4\u001b[0m sys\u001b[38;5;241m.\u001b[39mpath\u001b[38;5;241m.\u001b[39mappend(\u001b[38;5;124m\"\u001b[39m\u001b[38;5;124m../src\u001b[39m\u001b[38;5;124m\"\u001b[39m)\n\u001b[1;32m----> 5\u001b[0m \u001b[38;5;28;01mfrom\u001b[39;00m \u001b[38;5;21;01mconf\u001b[39;00m\u001b[38;5;21;01m.\u001b[39;00m\u001b[38;5;21;01mexperiment_conf\u001b[39;00m \u001b[38;5;28;01mimport\u001b[39;00m experiment\n",
      "\u001b[1;31mModuleNotFoundError\u001b[0m: No module named 'conf.experiment_conf'"
     ]
    }
   ],
   "source": [
    "import os\n",
    "import sys\n",
    "os.chdir(\"..\")\n",
    "sys.path.append(\"../src\")\n",
    "from src.conf.ex"
   ]
  },
  {
   "cell_type": "code",
   "execution_count": 8,
   "id": "b730f6f9",
   "metadata": {},
   "outputs": [
    {
     "data": {
      "text/plain": [
       "['C:\\\\Users\\\\maxime\\\\PycharmProjects\\\\project_template\\\\notebooks',\n",
       " 'C:\\\\Users\\\\maxime\\\\PycharmProjects\\\\project_template\\\\env\\\\python38.zip',\n",
       " 'C:\\\\Users\\\\maxime\\\\PycharmProjects\\\\project_template\\\\env\\\\DLLs',\n",
       " 'C:\\\\Users\\\\maxime\\\\PycharmProjects\\\\project_template\\\\env\\\\lib',\n",
       " 'C:\\\\Users\\\\maxime\\\\PycharmProjects\\\\project_template\\\\env',\n",
       " '',\n",
       " 'C:\\\\Users\\\\maxime\\\\PycharmProjects\\\\project_template\\\\env\\\\lib\\\\site-packages',\n",
       " 'C:\\\\Users\\\\maxime\\\\PycharmProjects\\\\project_template\\\\env\\\\lib\\\\site-packages\\\\win32',\n",
       " 'C:\\\\Users\\\\maxime\\\\PycharmProjects\\\\project_template\\\\env\\\\lib\\\\site-packages\\\\win32\\\\lib',\n",
       " 'C:\\\\Users\\\\maxime\\\\PycharmProjects\\\\project_template\\\\env\\\\lib\\\\site-packages\\\\Pythonwin',\n",
       " 'src',\n",
       " '../src']"
      ]
     },
     "execution_count": 8,
     "metadata": {},
     "output_type": "execute_result"
    }
   ],
   "source": [
    "sys.path"
   ]
  },
  {
   "cell_type": "code",
   "execution_count": null,
   "id": "636b5a8b",
   "metadata": {},
   "outputs": [],
   "source": []
  }
 ],
 "metadata": {
  "kernelspec": {
   "display_name": "Python 3 (ipykernel)",
   "language": "python",
   "name": "python3"
  },
  "language_info": {
   "codemirror_mode": {
    "name": "ipython",
    "version": 3
   },
   "file_extension": ".py",
   "mimetype": "text/x-python",
   "name": "python",
   "nbconvert_exporter": "python",
   "pygments_lexer": "ipython3",
   "version": "3.8.15"
  }
 },
 "nbformat": 4,
 "nbformat_minor": 5
}
