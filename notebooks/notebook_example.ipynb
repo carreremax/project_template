{
 "cells": [
  {
   "cell_type": "markdown",
   "id": "ac9ee65b",
   "metadata": {},
   "source": [
    "Change the working directory to the project dir and add source dir to python_path if not done manually :"
   ]
  },
  {
   "cell_type": "code",
   "execution_count": 1,
   "id": "30e1619a",
   "metadata": {},
   "outputs": [
    {
     "name": "stdout",
     "output_type": "stream",
     "text": [
      "C:\\Users\\maxime\\PycharmProjects\\project_template\n"
     ]
    }
   ],
   "source": [
    "%cd ..\n",
    "import sys\n",
    "sys.path.append(\"src\")"
   ]
  },
  {
   "cell_type": "markdown",
   "id": "b4d8caec",
   "metadata": {},
   "source": [
    "### Dependancies import"
   ]
  },
  {
   "cell_type": "code",
   "execution_count": 2,
   "id": "b730f6f9",
   "metadata": {},
   "outputs": [],
   "source": [
    "from conf.experiment_conf import ExperimentConf\n",
    "from run.run_experiment import run"
   ]
  },
  {
   "cell_type": "markdown",
   "id": "0053fb94",
   "metadata": {},
   "source": [
    "### Run a custom experiment"
   ]
  },
  {
   "cell_type": "code",
   "execution_count": 3,
   "id": "636b5a8b",
   "metadata": {},
   "outputs": [],
   "source": [
    "exp = ExperimentConf()"
   ]
  },
  {
   "cell_type": "code",
   "execution_count": 4,
   "id": "f8534086",
   "metadata": {},
   "outputs": [],
   "source": [
    "exp.dataset = \"Example3.csv\"\n",
    "exp.name = \"Example number 3\""
   ]
  },
  {
   "cell_type": "code",
   "execution_count": 6,
   "id": "983bfa20",
   "metadata": {},
   "outputs": [
    {
     "name": "stdout",
     "output_type": "stream",
     "text": [
      "ExperimentConf(conf_path=None, name='Example number 3', dataset='Example3.csv', output_dir='runs')\n"
     ]
    }
   ],
   "source": [
    "run(exp)"
   ]
  },
  {
   "cell_type": "code",
   "execution_count": null,
   "id": "233f1ce0",
   "metadata": {},
   "outputs": [],
   "source": []
  }
 ],
 "metadata": {
  "kernelspec": {
   "display_name": "Python 3 (ipykernel)",
   "language": "python",
   "name": "python3"
  },
  "language_info": {
   "codemirror_mode": {
    "name": "ipython",
    "version": 3
   },
   "file_extension": ".py",
   "mimetype": "text/x-python",
   "name": "python",
   "nbconvert_exporter": "python",
   "pygments_lexer": "ipython3",
   "version": "3.8.15"
  }
 },
 "nbformat": 4,
 "nbformat_minor": 5
}
